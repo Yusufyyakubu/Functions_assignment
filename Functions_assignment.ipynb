{
 "cells": [
  {
   "cell_type": "markdown",
   "metadata": {},
   "source": [
    "### 8-1 to 2"
   ]
  },
  {
   "cell_type": "code",
   "execution_count": 2,
   "metadata": {},
   "outputs": [
    {
     "name": "stdout",
     "output_type": "stream",
     "text": [
      "Hi! every one, i am learning about functions\n"
     ]
    }
   ],
   "source": [
    "def display_message():\n",
    "    print('Hello! every one, i am learning about functions')\n",
    "display_message()"
   ]
  },
  {
   "cell_type": "code",
   "execution_count": 3,
   "metadata": {},
   "outputs": [
    {
     "name": "stdout",
     "output_type": "stream",
     "text": [
      "One of my favorite books called Wondweland\n"
     ]
    }
   ],
   "source": [
    "def favorite_book(title):\n",
    "    print(f\"One of my favorite books called {title}\")\n",
    "    \n",
    "favorite_book('Wonderland')"
   ]
  },
  {
   "cell_type": "markdown",
   "metadata": {},
   "source": [
    "### Try it your self 8-3 to 5"
   ]
  },
  {
   "cell_type": "code",
   "execution_count": 4,
   "metadata": {},
   "outputs": [
    {
     "name": "stdout",
     "output_type": "stream",
     "text": [
      "The size of the hirt is:23, and it has The Great Wonders of the World printed on it\n"
     ]
    }
   ],
   "source": [
    "def make_shirt(size, text):\n",
    "    summary = f\"The size of the shirt is:{size}, and it has {text} printed on it\"\n",
    "    print(summary)\n",
    "\n",
    "make_shirt(23, \"The Great Wonders of the World\")"
   ]
  },
  {
   "cell_type": "code",
   "execution_count": 5,
   "metadata": {},
   "outputs": [
    {
     "name": "stdout",
     "output_type": "stream",
     "text": [
      "The size of the hirt is:70, and it has I love python printed on it\n"
     ]
    }
   ],
   "source": [
    "def make_shirt(size, text):\n",
    "    summary = f\"The size of the shirt is:{size}, and it has {text} printed on it\"\n",
    "    print(summary)\n",
    "\n",
    "make_shirt(70, \"I love python\")"
   ]
  },
  {
   "cell_type": "code",
   "execution_count": 1,
   "metadata": {},
   "outputs": [
    {
     "name": "stdout",
     "output_type": "stream",
     "text": [
      "The size of the shirt is:60, and it has I love python printed on it\n"
     ]
    }
   ],
   "source": [
    "def make_shirt(size, text):\n",
    "    summary = f\"The size of the shirt is:{size}, and it has {text} printed on it\"\n",
    "    print(summary)\n",
    "\n",
    "make_shirt(60, \"I love Habiba\")"
   ]
  },
  {
   "cell_type": "code",
   "execution_count": 6,
   "metadata": {},
   "outputs": [
    {
     "name": "stdout",
     "output_type": "stream",
     "text": [
      "The size of the hirt is:150, and it has I love python printed on it\n"
     ]
    }
   ],
   "source": [
    "def make_shirt(size, text):\n",
    "    summary = f\"The size of the hirt is:{size}, and it has {text} printed on it\"\n",
    "    print(summary)\n",
    "\n",
    "make_shirt(150, \"I love python\")"
   ]
  },
  {
   "cell_type": "code",
   "execution_count": 7,
   "metadata": {},
   "outputs": [
    {
     "name": "stdout",
     "output_type": "stream",
     "text": [
      "The size of the hirt is:200, and it has Learning is not quite easy printed on it\n"
     ]
    }
   ],
   "source": [
    "def make_shirt(size, text):\n",
    "    summary = f\"The size of the shirt is:{size}, and it has {text} printed on it\"\n",
    "    print(summary)\n",
    "\n",
    "make_shirt(200, \"Learning is not quite easy\")"
   ]
  },
  {
   "cell_type": "code",
   "execution_count": 2,
   "metadata": {},
   "outputs": [
    {
     "name": "stdout",
     "output_type": "stream",
     "text": [
      "Misau is in Nigeria\n",
      "Bauchi is in Nigeria\n",
      "Bauchi is in Nigeria\n",
      "Akra is in Ghana\n"
     ]
    }
   ],
   "source": [
    "def describe_city(city, country=\"Nigeria\"):\n",
    "    print(f\"{city} is in {country}\")\n",
    "    \n",
    "\n",
    "describe_city('Misau')\n",
    "describe_city('Bauchi')\n",
    "describe_city('Bauchi')\n",
    "describe_city('Macca', 'Saudia')"
   ]
  },
  {
   "cell_type": "markdown",
   "metadata": {},
   "source": [
    "### Try it yourself 8-6 to 8"
   ]
  },
  {
   "cell_type": "code",
   "execution_count": 3,
   "metadata": {},
   "outputs": [
    {
     "name": "stdout",
     "output_type": "stream",
     "text": [
      "Misau, Nigeria\n",
      "Bauchi, Nigeria\n",
      "Kano, Nigeria\n"
     ]
    }
   ],
   "source": [
    "def city_country(city, country):\n",
    "    city_country=f\"{city}, {country}\"\n",
    "    return city_country\n",
    "\n",
    "country_and_city1 = city_country(\"Misau\", \"Nigeria\")\n",
    "country_and_city2 = city_country(\"Bauchi\", \"Nigeria\")\n",
    "country_and_city3 = city_country(\"Kano\", \"Nigeria\")\n",
    "print(country_and_city1)\n",
    "print(country_and_city2)\n",
    "print(country_and_city3)"
   ]
  },
  {
   "cell_type": "code",
   "execution_count": 11,
   "metadata": {},
   "outputs": [
    {
     "name": "stdout",
     "output_type": "stream",
     "text": [
      "{'name':thriller, 'title': machael Jackson} {'name':fashion, 'title': machael} {'name':the house, 'title': Jackson}\n"
     ]
    }
   ],
   "source": [
    "def make_album(album_name, album_title):\n",
    "    artist_and_album = f\"{{'name':{album_name}, 'title': {album_title}}}\"\n",
    "    return artist_and_album\n",
    "    \n",
    "caller1=make_album(\"thriller\", \"machael Jackson\")\n",
    "caller2=make_album(\"fashion\", \"machael\")\n",
    "caller3=make_album(\"the house\", \"Jackson\")\n",
    "print(caller1,caller2, caller3)"
   ]
  },
  {
   "cell_type": "code",
   "execution_count": 12,
   "metadata": {},
   "outputs": [
    {
     "name": "stdout",
     "output_type": "stream",
     "text": [
      "{'name':thriller, 'title': machael Jackson} {'name':fashion, 'title': machael} {'name':the house, 'title': Jackson, 'number':30 }\n"
     ]
    }
   ],
   "source": [
    "def make_album(album_name, album_title, number_song=None):\n",
    "    if number_song:\n",
    "        artist_and_album = f\"{{'name':{album_name}, 'title': {album_title}, 'number':{number_song} }}\"\n",
    "    else:\n",
    "        artist_and_album = f\"{{'name':{album_name}, 'title': {album_title}}}\"\n",
    "    return artist_and_album\n",
    "    \n",
    "caller1=make_album(\"thriller\", \"machael Jackson\")\n",
    "caller2=make_album(\"fashion\", \"machael\")\n",
    "caller3=make_album(\"the house\", \"Jackson\", 30)\n",
    "print(caller1,caller2, caller3)"
   ]
  },
  {
   "cell_type": "code",
   "execution_count": 13,
   "metadata": {},
   "outputs": [
    {
     "name": "stdout",
     "output_type": "stream",
     "text": [
      "{'name':jackson, 'title': thriller}\n"
     ]
    }
   ],
   "source": [
    "def make_album(album_name, album_title, number_song=None):\n",
    "    if number_song:\n",
    "        artist_and_album = f\"{{'name':{album_name}, 'title': {album_title}, 'number':{number_song} }}\"\n",
    "    else:\n",
    "        artist_and_album = f\"{{'name':{album_name}, 'title': {album_title}}}\"\n",
    "    return artist_and_album\n",
    "    \n",
    "album_artist = input(\"Insert the album artist: \")\n",
    "album_title = input(\"Insert the album title\")\n",
    "while album_artist and album_title:\n",
    "    print(make_album(album_artist, album_title))\n",
    "    break\n",
    "    "
   ]
  },
  {
   "cell_type": "markdown",
   "metadata": {},
   "source": [
    "### Try it yourself 8-9 to 11"
   ]
  },
  {
   "cell_type": "code",
   "execution_count": 14,
   "metadata": {},
   "outputs": [
    {
     "name": "stdout",
     "output_type": "stream",
     "text": [
      "reading a book\n",
      "copying the content of a book\n",
      "storing the records\n",
      "giving out for charity\n"
     ]
    }
   ],
   "source": [
    "list= [\"reading a book\", \"copying the content of a book\", \"storing the records\", \"giving out for charity\"]\n",
    "def show_messages(messages):\n",
    "    for message in messages:\n",
    "        print(message)\n",
    "\n",
    "show_messages(list)"
   ]
  },
  {
   "cell_type": "code",
   "execution_count": 15,
   "metadata": {},
   "outputs": [
    {
     "name": "stdout",
     "output_type": "stream",
     "text": [
      "reading a book\n",
      "copying the content of a book\n",
      "storing the records\n",
      "giving out for charity\n",
      "copying the content of a book\n",
      "storing the records\n",
      "giving out for charity\n",
      "storing the records\n",
      "giving out for charity\n",
      "giving out for charity\n",
      "[]\n"
     ]
    }
   ],
   "source": [
    "def show_messages(messages):\n",
    "    for message in messages:\n",
    "        print(message)\n",
    "\n",
    "def send_messages(messages):\n",
    "    while messages:\n",
    "        show_messages(messages)\n",
    "        messages.pop(0)\n",
    "\n",
    "my_list = [\"reading a book\", \"copying the content of a book\", \"storing the records\", \"giving out for charity\"]\n",
    "send_messages(my_list)\n",
    "print(my_list)"
   ]
  },
  {
   "cell_type": "code",
   "execution_count": 16,
   "metadata": {},
   "outputs": [
    {
     "name": "stdout",
     "output_type": "stream",
     "text": [
      "reading a book\n",
      "copying the content of a book\n",
      "storing the records\n",
      "giving out for charity\n",
      "copying the content of a book\n",
      "storing the records\n",
      "giving out for charity\n",
      "storing the records\n",
      "giving out for charity\n",
      "giving out for charity\n",
      "['reading a book', 'copying the content of a book', 'storing the records', 'giving out for charity']\n"
     ]
    }
   ],
   "source": [
    "def show_messages(messages):\n",
    "    for message in messages:\n",
    "        print(message)\n",
    "\n",
    "def send_messages(messages):\n",
    "    while messages:\n",
    "        show_messages(messages)\n",
    "        messages.pop(0)\n",
    "\n",
    "my_list = [\"reading a book\", \"copying the content of a book\", \"storing the records\", \"giving out for charity\"]\n",
    "my_list2 = my_list[:]\n",
    "send_messages(my_list2)\n",
    "print(my_list)"
   ]
  },
  {
   "cell_type": "markdown",
   "metadata": {},
   "source": [
    "### Try it yourself 8-12 to 14"
   ]
  },
  {
   "cell_type": "code",
   "execution_count": 13,
   "metadata": {},
   "outputs": [
    {
     "name": "stdout",
     "output_type": "stream",
     "text": [
      "peanut butter\n",
      "peanut butter jelly\n",
      "peanut butter jelly herbs\n"
     ]
    }
   ],
   "source": [
    "def person_sandwich(*list):\n",
    "    print(*list)\n",
    "person_sandwich('peanut', 'butter')\n",
    "person_sandwich('peanut', 'butter', 'jelly')\n",
    "person_sandwich('peanut', 'butter', 'jelly', 'herbs')\n"
   ]
  },
  {
   "cell_type": "code",
   "execution_count": 29,
   "metadata": {},
   "outputs": [],
   "source": [
    "# user_profile.py\n",
    "\n",
    "def build_profile(first_name, last_name, age=None, occupation=None, country=None):\n",
    "    profile = {\n",
    "        'first_name': Yusuf,\n",
    "        'last_name': Sani,\n",
    "        'age': age,\n",
    "        'occupation': Trader,\n",
    "        'country': country\n",
    "    }\n",
    "    return profile\n"
   ]
  },
  {
   "cell_type": "code",
   "execution_count": 30,
   "metadata": {},
   "outputs": [
    {
     "name": "stdout",
     "output_type": "stream",
     "text": [
      "{'manufacturer': subaru, 'model': outlook, 'name1': name1, 'name2': name2}\n"
     ]
    }
   ],
   "source": [
    "def make_car(manufacturer, model, **additionalargs):\n",
    "    name1 = \"name1\"\n",
    "    name2 = \"name2\"\n",
    "    car_info = f\"{{'manufacturer': {manufacturer}, 'model': {model}, 'name1': {name1}, 'name2': {name2}}}\"\n",
    "    return car_info\n",
    "\n",
    "car = make_car('subaru', 'outlook', color='blue', tow_package=True)\n",
    "print(car)"
   ]
  },
  {
   "cell_type": "markdown",
   "metadata": {},
   "source": [
    "### Try it yourself 8-15 to 16"
   ]
  },
  {
   "cell_type": "code",
   "execution_count": 31,
   "metadata": {},
   "outputs": [
    {
     "ename": "ModuleNotFoundError",
     "evalue": "No module named 'printing_functions'",
     "output_type": "error",
     "traceback": [
      "\u001b[1;31m---------------------------------------------------------------------------\u001b[0m",
      "\u001b[1;31mModuleNotFoundError\u001b[0m                       Traceback (most recent call last)",
      "Cell \u001b[1;32mIn[31], line 5\u001b[0m\n\u001b[0;32m      1\u001b[0m \u001b[38;5;124;03m'''8-15. Printing_models.py and printing_functions.py has been written and an import statement was written and \u001b[39;00m\n\u001b[0;32m      2\u001b[0m \u001b[38;5;124;03mdone with the file modified as suggested. They all .py files within the folder'''\u001b[39;00m\n\u001b[1;32m----> 5\u001b[0m \u001b[38;5;28;01mfrom\u001b[39;00m \u001b[38;5;21;01mprinting_functions\u001b[39;00m \u001b[38;5;28;01mimport\u001b[39;00m out_list\n\u001b[0;32m      7\u001b[0m my_list \u001b[38;5;241m=\u001b[39m [\u001b[38;5;124m'\u001b[39m\u001b[38;5;124mYusuf\u001b[39m\u001b[38;5;124m'\u001b[39m, \u001b[38;5;124m'\u001b[39m\u001b[38;5;124mYakubu\u001b[39m\u001b[38;5;124m'\u001b[39m, \u001b[38;5;124m'\u001b[39m\u001b[38;5;124mSani\u001b[39m\u001b[38;5;124m'\u001b[39m, \u001b[38;5;124m'\u001b[39m\u001b[38;5;124mYusra\u001b[39m\u001b[38;5;124m'\u001b[39m, \u001b[38;5;124m'\u001b[39m\u001b[38;5;124mAmira\u001b[39m\u001b[38;5;124m'\u001b[39m]\n\u001b[0;32m      8\u001b[0m \u001b[38;5;28mprint\u001b[39m(out_list(my_list))\n",
      "\u001b[1;31mModuleNotFoundError\u001b[0m: No module named 'printing_functions'"
     ]
    }
   ],
   "source": [
    "'''8-15. Printing_models.py and printing_functions.py has been written and an import statement was written and \n",
    "done with the file modified as suggested. They all .py files within the folder'''\n",
    "\n",
    "\n",
    "from printing_functions import out_list\n",
    "\n",
    "my_list = ['Yusuf', 'Yakubu', 'Sani', 'Yusra', 'Amira']\n",
    "print(out_list(my_list))\n"
   ]
  },
  {
   "cell_type": "code",
   "execution_count": 28,
   "metadata": {},
   "outputs": [
    {
     "ename": "ModuleNotFoundError",
     "evalue": "No module named 'printing_functions'",
     "output_type": "error",
     "traceback": [
      "\u001b[1;31m---------------------------------------------------------------------------\u001b[0m",
      "\u001b[1;31mModuleNotFoundError\u001b[0m                       Traceback (most recent call last)",
      "Cell \u001b[1;32mIn[28], line 1\u001b[0m\n\u001b[1;32m----> 1\u001b[0m \u001b[38;5;28;01mimport\u001b[39;00m \u001b[38;5;21;01mprinting_functions\u001b[39;00m\n\u001b[0;32m      2\u001b[0m \u001b[38;5;28;01mfrom\u001b[39;00m \u001b[38;5;21;01mprinting_functions\u001b[39;00m \u001b[38;5;28;01mimport\u001b[39;00m out_list\n\u001b[0;32m      3\u001b[0m \u001b[38;5;28;01mfrom\u001b[39;00m \u001b[38;5;21;01mprinting_functions\u001b[39;00m \u001b[38;5;28;01mimport\u001b[39;00m out_list \u001b[38;5;28;01mas\u001b[39;00m ol\n",
      "\u001b[1;31mModuleNotFoundError\u001b[0m: No module named 'printing_functions'"
     ]
    }
   ],
   "source": [
    "import printing_functions\n",
    "from printing_functions import out_list\n",
    "from printing_functions import out_list as ol\n",
    "import printing_functions as pf\n",
    "from printing_functions import *\n"
   ]
  }
 ],
 "metadata": {
  "kernelspec": {
   "display_name": "Python 3",
   "language": "python",
   "name": "python3"
  },
  "language_info": {
   "codemirror_mode": {
    "name": "ipython",
    "version": 3
   },
   "file_extension": ".py",
   "mimetype": "text/x-python",
   "name": "python",
   "nbconvert_exporter": "python",
   "pygments_lexer": "ipython3",
   "version": "3.8.18"
  }
 },
 "nbformat": 4,
 "nbformat_minor": 2
}
